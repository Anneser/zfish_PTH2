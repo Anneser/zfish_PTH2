{
 "cells": [
  {
   "cell_type": "code",
   "execution_count": 1,
   "id": "4c2fe24d",
   "metadata": {},
   "outputs": [],
   "source": [
    "# for data importing and storing\n",
    "import numpy as np\n",
    "import pandas as pd\n",
    "import os\n",
    "\n",
    "# for plotting\n",
    "import matplotlib.pyplot as plt\n",
    "import seaborn as sns\n",
    "\n",
    "# for cohen's d function:\n",
    "from statistics import mean, stdev\n",
    "import math\n",
    "from math import sqrt\n",
    "\n",
    "# for statistical analysis\n",
    "from scipy.stats import ttest_ind\n",
    "\n",
    "\n",
    "# helper function\n",
    "# function to calculate Cohen's d for independent samples\n",
    "def cohend(d1, d2):\n",
    "    # calculate the size of samples\n",
    "    n1, n2 = len(d1), len(d2)\n",
    "    # calculate the variance of the samples\n",
    "    s1, s2 = np.var(d1, ddof=1), np.var(d2, ddof=1)\n",
    "    # calculate the pooled standard deviation\n",
    "    s = math.sqrt(((n1 - 1) * s1 + (n2 - 1) * s2) / (n1 + n2 - 2))\n",
    "    # calculate the means of the samples\n",
    "    u1, u2 = np.mean(d1), np.mean(d2)\n",
    "    # calculate the effect size\n",
    "    return (u1 - u2) / s"
   ]
  },
  {
   "cell_type": "markdown",
   "id": "46e23c1f",
   "metadata": {},
   "source": [
    "## 1. Loading the data\n",
    "\n",
    "Data is available from the EDMOND repository [Modulation of behavior in zebrafish by the neuropeptide PTH2](https://dx.doi.org/10.17617/3.6v). Individual data files should be placed within the same folder as the scripts, otherwise, file locations need to be updated in the cell below. \n",
    "\n",
    "The _velocity_ dataframe contains 4 columns: \n",
    "- **experiment** defaults to _tripartite_, indicating that the data was obtained in the open field paradigm.\n",
    "- **genotype**: either _wt_ (for $pth2^{+/+}$) or _ko_ (fo $pth2^{-/-}$).\n",
    "- **age**: defaults to 56 dpf to match the age of the animals in the shoaling experiments\n",
    "- **value**: speed of the animals in pixels per second. Will be transformed to cm per second in the following steps."
   ]
  },
  {
   "cell_type": "code",
   "execution_count": 3,
   "id": "658bde08",
   "metadata": {},
   "outputs": [
    {
     "data": {
      "text/plain": [
       "65"
      ]
     },
     "execution_count": 3,
     "metadata": {},
     "output_type": "execute_result"
    }
   ],
   "source": [
    "df = pd.read_excel(r'.\\velocity.xlsx' , sheet_name = 'import')\n",
    "df.head()\n",
    "len(df)"
   ]
  },
  {
   "cell_type": "code",
   "execution_count": 39,
   "id": "16608cbe",
   "metadata": {},
   "outputs": [
    {
     "data": {
      "image/png": "[encoded data removed]",
      "text/plain": [
       "<Figure size 432x129.6 with 1 Axes>"
      ]
     },
     "metadata": {
      "needs_background": "light"
     },
     "output_type": "display_data"
    }
   ],
   "source": [
    "f, ax = plt.subplots(figsize = (6,1.8))\n",
    "sns.despine(right=True)\n",
    "\n",
    "# Show each observation with a scatterplot\n",
    "sns.stripplot(x=\"velocity_in_cm\", y=\"genotype\", hue=\"genotype\",\n",
    "              data=df, dodge=True, alpha=.7, zorder=1 , order=['ko', 'wt'] , palette=['k', 'g'])\n",
    "\n",
    "# Show the conditional means\n",
    "sns.pointplot(x=\"velocity_in_cm\", y=\"genotype\", hue=\"genotype\",\n",
    "              data=df, dodge=.4, join=False, palette=['k', 'g'],\n",
    "              markers=\"d\", scale=.75, ci=95 , order=['ko', 'wt'])\n",
    "\n",
    "# Improve the legend \n",
    "handles, labels = ax.get_legend_handles_labels()\n",
    "ax.legend(handles[2:], labels[2:], title=\"genotype\",\n",
    "          handletextpad=0, columnspacing=1,\n",
    "          ncol=1, frameon=True)\n",
    "ax.set(xlabel='velocity (cm/sec)', ylabel='',\n",
    "       xlim = [0, 5])\n",
    "ax.get_legend().remove()\n",
    "\n",
    "\n",
    "plt.savefig(\"extFig3D.svg\")"
   ]
  },
  {
   "cell_type": "code",
   "execution_count": 36,
   "id": "7f545f50",
   "metadata": {},
   "outputs": [],
   "source": [
    "# statistical evaulation\n",
    "t, p  =ttest_ind(df[df['genotype'] == 'wt']['velocity_in_cm'] , \n",
    "               df[df['genotype'] == 'ko']['velocity_in_cm'] )"
   ]
  },
  {
   "cell_type": "code",
   "execution_count": 38,
   "id": "fda3cbba",
   "metadata": {},
   "outputs": [
    {
     "name": "stdout",
     "output_type": "stream",
     "text": [
      "p value: 0.7660116005748333\n",
      "t = 0.29888486744380977\n",
      "effect size: 0.0742233069669157\n",
      "mean value wildtype: 2.140325516129032\n",
      "mean value mutant: 2.074604794117647\n"
     ]
    }
   ],
   "source": [
    "print(\"p value: \" + str(p))\n",
    "print(\"t = \" + str(t))\n",
    "# report central tendencies\n",
    "print(\"effect size: \" + str(cohend(df[df['genotype'] == 'wt']['velocity_in_cm'] , \n",
    "               df[df['genotype'] == 'ko']['velocity_in_cm'])))\n",
    "print(\"mean value wildtype: \" + str(np.mean(df[df[\"genotype\"] == 'wt'][\"velocity_in_cm\"])))\n",
    "print(\"mean value mutant: \" + str(np.mean(df[df[\"genotype\"] == 'ko'][\"velocity_in_cm\"])))"
   ]
  }
 ],
 "metadata": {
  "kernelspec": {
   "display_name": "Python 3",
   "language": "python",
   "name": "python3"
  },
  "language_info": {
   "codemirror_mode": {
    "name": "ipython",
    "version": 3
   },
   "file_extension": ".py",
   "mimetype": "text/x-python",
   "name": "python",
   "nbconvert_exporter": "python",
   "pygments_lexer": "ipython3",
   "version": "3.8.8"
  }
 },
 "nbformat": 4,
 "nbformat_minor": 5
}
