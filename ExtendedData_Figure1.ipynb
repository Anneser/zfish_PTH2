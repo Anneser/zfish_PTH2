{
 "cells": [
  {
   "cell_type": "code",
   "execution_count": 1,
   "id": "engaging-working",
   "metadata": {},
   "outputs": [],
   "source": [
    "import pandas as pd\n",
    "import numpy as np\n",
    "import matplotlib.pyplot as plt\n",
    "import lifelines as ll\n",
    "import seaborn as sns\n",
    "from scipy.stats import ttest_ind"
   ]
  },
  {
   "cell_type": "markdown",
   "id": "worst-spyware",
   "metadata": {},
   "source": [
    "## 1. Loading data\n",
    "Data is available from the EDMOND repository [Modulation of behavior in zebrafish by the neuropeptide PTH2](https://dx.doi.org/10.17617/3.6v). Individual data files should be placed within the same folder as the scripts, otherwise, file locations need to be updated in the cell below."
   ]
  },
  {
   "cell_type": "code",
   "execution_count": 4,
   "id": "worldwide-january",
   "metadata": {},
   "outputs": [],
   "source": [
    "# dataframe containing survival data\n",
    "df = pd.read_excel(r'.\\SurvivalRate.xlsx' ,\n",
    "                  sheet_name = 'Import')\n",
    "\n",
    "# dataframe containing body length measurements\n",
    "df2 = pd.read_excel(r'.\\BodyLength.xlsx' ,\n",
    "                  sheet_name = 'Import')"
   ]
  },
  {
   "cell_type": "markdown",
   "id": "funny-plant",
   "metadata": {},
   "source": [
    "## 2. Fit Kaplan-Meier estimator\n",
    "The lifelines library used in this script is hosted [here](https://lifelines.readthedocs.io/en/latest/) and can be installed via\n",
    "\n",
    "<code>pip install lifelines<\\code>\n",
    "    \n",
    "    or\n",
    "    \n",
    "<code>conda install -c conda-forge lifelines<\\code>   \n",
    "    \n",
    "    when working with the Anaconda platform."
   ]
  },
  {
   "cell_type": "code",
   "execution_count": 5,
   "id": "obvious-ethiopia",
   "metadata": {},
   "outputs": [
    {
     "data": {
      "text/plain": [
       "<matplotlib.legend.Legend at 0x2285a1635f8>"
      ]
     },
     "execution_count": 5,
     "metadata": {},
     "output_type": "execute_result"
    },
    {
     "data": {
      "image/png": "[encoded data removed]",
      "text/plain": [
       "<Figure size 432x288 with 1 Axes>"
      ]
     },
     "metadata": {
      "needs_background": "light"
     },
     "output_type": "display_data"
    }
   ],
   "source": [
    "ax = plt.subplot(111)\n",
    "kmf = ll.KaplanMeierFitter()\n",
    "\n",
    "for name, grouped_df in df.groupby('group'):\n",
    "    kmf.fit(grouped_df[\"duration\"], grouped_df[\"death\"], label= name)\n",
    "    kmf.plot_survival_function(ax=ax , ylim = (0, 1) )\n",
    "    \n",
    "ax.legend(bbox_to_anchor=(1,0), loc=\"lower right\")"
   ]
  },
  {
   "cell_type": "markdown",
   "id": "optimum-executive",
   "metadata": {},
   "source": [
    "## 3. Determine restricted mean survival times (RMST) "
   ]
  },
  {
   "cell_type": "code",
   "execution_count": 8,
   "id": "graphic-defensive",
   "metadata": {},
   "outputs": [
    {
     "data": {
      "text/plain": [
       "<matplotlib.legend.Legend at 0x2285ac35d68>"
      ]
     },
     "execution_count": 8,
     "metadata": {},
     "output_type": "execute_result"
    },
    {
     "data": {
      "image/png": "[encoded data removed]",
      "text/plain": [
       "<Figure size 432x216 with 1 Axes>"
      ]
     },
     "metadata": {
      "needs_background": "light"
     },
     "output_type": "display_data"
    }
   ],
   "source": [
    "kmf_mut = ll.KaplanMeierFitter()\n",
    "kmf_mut.fit(df[df['group'] == 'mutant']['duration'] , df[df['group'] == 'mutant']['duration'] , label = '$pth2^{-/-}$')\n",
    "\n",
    "kmf_ctr = ll.KaplanMeierFitter()\n",
    "kmf_ctr.fit(df[df['group'] == 'wildtype']['duration'] , df[df['group'] == 'wildtype']['duration'] , label = '$pth2^{+/+}$')\n",
    "\n",
    "fig, ax = plt.subplots(figsize = (6,3) )\n",
    "ll.plotting.rmst_plot(kmf_mut, model2=kmf_ctr, ax=ax)\n",
    "ax.legend(bbox_to_anchor=(1,0), loc=\"lower right\")"
   ]
  },
  {
   "cell_type": "markdown",
   "id": "graphic-metallic",
   "metadata": {},
   "source": [
    "## Statistical analysis"
   ]
  },
  {
   "cell_type": "code",
   "execution_count": 9,
   "id": "ambient-agent",
   "metadata": {},
   "outputs": [
    {
     "data": {
      "text/html": [
       "<div>\n",
       "<style scoped>\n",
       "    .dataframe tbody tr th:only-of-type {\n",
       "        vertical-align: middle;\n",
       "    }\n",
       "\n",
       "    .dataframe tbody tr th {\n",
       "        vertical-align: top;\n",
       "    }\n",
       "\n",
       "    .dataframe thead th {\n",
       "        text-align: right;\n",
       "    }\n",
       "</style>\n",
       "<table border=\"1\" class=\"dataframe\">\n",
       "  <tbody>\n",
       "    <tr>\n",
       "      <th>t_0</th>\n",
       "      <td>-1</td>\n",
       "    </tr>\n",
       "    <tr>\n",
       "      <th>null_distribution</th>\n",
       "      <td>chi squared</td>\n",
       "    </tr>\n",
       "    <tr>\n",
       "      <th>degrees_of_freedom</th>\n",
       "      <td>1</td>\n",
       "    </tr>\n",
       "    <tr>\n",
       "      <th>test_name</th>\n",
       "      <td>logrank_test</td>\n",
       "    </tr>\n",
       "  </tbody>\n",
       "</table>\n",
       "</div><table border=\"1\" class=\"dataframe\">\n",
       "  <thead>\n",
       "    <tr style=\"text-align: right;\">\n",
       "      <th></th>\n",
       "      <th>test_statistic</th>\n",
       "      <th>p</th>\n",
       "      <th>-log2(p)</th>\n",
       "    </tr>\n",
       "  </thead>\n",
       "  <tbody>\n",
       "    <tr>\n",
       "      <th>0</th>\n",
       "      <td>1.15</td>\n",
       "      <td>0.28</td>\n",
       "      <td>1.82</td>\n",
       "    </tr>\n",
       "  </tbody>\n",
       "</table>"
      ],
      "text/latex": [
       "\\begin{tabular}{lrrr}\n",
       "\\toprule\n",
       "{} &  test\\_statistic &         p &  -log2(p) \\\\\n",
       "\\midrule\n",
       "0 &        1.151473 &  0.283241 &  1.819898 \\\\\n",
       "\\bottomrule\n",
       "\\end{tabular}\n"
      ],
      "text/plain": [
       "<lifelines.StatisticalResult: logrank_test>\n",
       "               t_0 = -1\n",
       " null_distribution = chi squared\n",
       "degrees_of_freedom = 1\n",
       "         test_name = logrank_test\n",
       "\n",
       "---\n",
       " test_statistic    p  -log2(p)\n",
       "           1.15 0.28      1.82"
      ]
     },
     "metadata": {},
     "output_type": "display_data"
    },
    {
     "name": "stdout",
     "output_type": "stream",
     "text": [
      "0.2832409656119932\n",
      "1.1514732187143017\n"
     ]
    }
   ],
   "source": [
    "ix = df['group'] == 'mutant'\n",
    "T_exp, E_exp = df.loc[ix, 'duration'], df.loc[ix, 'death']\n",
    "T_con, E_con = df.loc[~ix, 'duration'], df.loc[~ix, 'death']\n",
    "\n",
    "\n",
    "results = ll.statistics.logrank_test(T_exp, T_con, event_observed_A=E_exp, event_observed_B=E_con)\n",
    "results.print_summary()\n",
    "\n",
    "\n",
    "print(results.p_value)        # 0.283\n",
    "print(results.test_statistic) # 1.151"
   ]
  },
  {
   "cell_type": "markdown",
   "id": "sealed-vehicle",
   "metadata": {},
   "source": [
    "## 4. Comparison of body length"
   ]
  },
  {
   "cell_type": "code",
   "execution_count": 21,
   "id": "sacred-baghdad",
   "metadata": {},
   "outputs": [
    {
     "data": {
      "image/png": "[encoded data removed]",
      "text/plain": [
       "<Figure size 216x216 with 1 Axes>"
      ]
     },
     "metadata": {
      "needs_background": "light"
     },
     "output_type": "display_data"
    }
   ],
   "source": [
    "fig, ax = plt.subplots(figsize = (3,3))\n",
    "sns.boxplot(x = 'genotype' , y = 'length' , data = df2 , showfliers = 0 , palette = ['w' , 'g'])\n",
    "sns.stripplot(x = 'genotype' , y = 'length' , data = df2 , size = 7 , palette = ['w' , 'g'] , edgecolor = 'k' , linewidth = 0.4)\n",
    "plt.ylim(0,6)\n",
    "plt.savefig('pth2_length.svg' , bbox_inches = 'tight')"
   ]
  },
  {
   "cell_type": "code",
   "execution_count": 49,
   "id": "unauthorized-ghost",
   "metadata": {},
   "outputs": [
    {
     "data": {
      "text/plain": [
       "Ttest_indResult(statistic=-0.7060752608982053, pvalue=0.4844480368802785)"
      ]
     },
     "execution_count": 49,
     "metadata": {},
     "output_type": "execute_result"
    }
   ],
   "source": [
    "ttest_ind(df2[df2['genotype'] == 'wildtype']['length'] , \n",
    "          df2[df2['genotype'] == 'mutant']['length'])"
   ]
  }
 ],
 "metadata": {
  "kernelspec": {
   "display_name": "Python 3",
   "language": "python",
   "name": "python3"
  },
  "language_info": {
   "codemirror_mode": {
    "name": "ipython",
    "version": 3
   },
   "file_extension": ".py",
   "mimetype": "text/x-python",
   "name": "python",
   "nbconvert_exporter": "python",
   "pygments_lexer": "ipython3",
   "version": "3.6.8"
  }
 },
 "nbformat": 4,
 "nbformat_minor": 5
}
